{
 "cells": [
  {
   "cell_type": "code",
   "execution_count": 2,
   "id": "5b6ee45f",
   "metadata": {},
   "outputs": [
    {
     "name": "stdout",
     "output_type": "stream",
     "text": [
      "hello\n",
      " welcome to string dtype\n"
     ]
    }
   ],
   "source": [
    "print('hello')\n",
    "print(\" welcome to string dtype\")"
   ]
  },
  {
   "cell_type": "code",
   "execution_count": null,
   "id": "a29eb1e7",
   "metadata": {},
   "outputs": [],
   "source": [
    "# string : \" \" or ' ' ex: s=\"heloo\" , s='5'\n",
    "# it sequence of char or single char or space\n",
    "# str --> seq obj --> slicing is posible   # s= 'apple' \n",
    "# indexing (+ve , -ve)"
   ]
  },
  {
   "cell_type": "code",
   "execution_count": null,
   "id": "def36f0f",
   "metadata": {},
   "outputs": [
    {
     "name": "stdout",
     "output_type": "stream",
     "text": [
      "<class 'str'>\n",
      "1633824020304\n",
      "########&**><><<PO_)+(*JUYVRTRIJLJ)\n"
     ]
    }
   ],
   "source": [
    "s=' '  # empty\n",
    "print(type(s))\n",
    "print(id(s))\n",
    "print(s)\n"
   ]
  },
  {
   "cell_type": "code",
   "execution_count": 7,
   "id": "44034873",
   "metadata": {},
   "outputs": [
    {
     "name": "stdout",
     "output_type": "stream",
     "text": [
      "########&**\n"
     ]
    }
   ],
   "source": [
    "print(s)"
   ]
  },
  {
   "cell_type": "code",
   "execution_count": 9,
   "id": "962cc512",
   "metadata": {},
   "outputs": [
    {
     "name": "stdout",
     "output_type": "stream",
     "text": [
      "apple is a friut\n"
     ]
    }
   ],
   "source": [
    "s='apple is a friut'  \n",
    "print(s)"
   ]
  },
  {
   "cell_type": "code",
   "execution_count": 10,
   "id": "91e3f0f1",
   "metadata": {},
   "outputs": [
    {
     "name": "stdout",
     "output_type": "stream",
     "text": [
      "Apple\n"
     ]
    }
   ],
   "source": [
    "# 1. capitalize(): --> \n",
    "\n",
    "s='apple'\n",
    "print(s.capitalize())\n"
   ]
  },
  {
   "cell_type": "code",
   "execution_count": null,
   "id": "740d6dfc",
   "metadata": {},
   "outputs": [
    {
     "name": "stdout",
     "output_type": "stream",
     "text": [
      "Apple is a friut\n"
     ]
    }
   ],
   "source": [
    "s='apple is a fruit' \n",
    "\n",
    "print(s.capitalize())"
   ]
  },
  {
   "cell_type": "code",
   "execution_count": null,
   "id": "5522f1df",
   "metadata": {},
   "outputs": [
    {
     "name": "stdout",
     "output_type": "stream",
     "text": [
      "Apple Is A Fruit\n",
      "apple is a fruit\n"
     ]
    }
   ],
   "source": [
    "s='apple is a fruit' \n",
    "print(s.title())\n",
    "print(s)"
   ]
  },
  {
   "cell_type": "code",
   "execution_count": 22,
   "id": "1869082e",
   "metadata": {},
   "outputs": [
    {
     "data": {
      "text/plain": [
       "'1020'"
      ]
     },
     "execution_count": 22,
     "metadata": {},
     "output_type": "execute_result"
    }
   ],
   "source": [
    "s1= \"10\"\n",
    "s2= \"20\"\n",
    "\n",
    "\n",
    "s1+s2   # error \", 1020"
   ]
  },
  {
   "cell_type": "code",
   "execution_count": 34,
   "id": "46cd0855",
   "metadata": {},
   "outputs": [
    {
     "data": {
      "text/plain": [
       "'hello python world '"
      ]
     },
     "execution_count": 34,
     "metadata": {},
     "output_type": "execute_result"
    }
   ],
   "source": [
    "# concatenation\n",
    "\n",
    "s1 = \"hello\"\n",
    "s2=\" python\"\n",
    "s3= \" world \"\n",
    "\n",
    "s1+s2+s3"
   ]
  },
  {
   "cell_type": "code",
   "execution_count": 33,
   "id": "c6230b25",
   "metadata": {},
   "outputs": [
    {
     "data": {
      "text/plain": [
       "'hello 100'"
      ]
     },
     "execution_count": 33,
     "metadata": {},
     "output_type": "execute_result"
    }
   ],
   "source": [
    "s1 = \"hello \"\n",
    "s2= \"100\"\n",
    "s1+s2 "
   ]
  },
  {
   "cell_type": "code",
   "execution_count": 45,
   "id": "86f9504c",
   "metadata": {},
   "outputs": [
    {
     "name": "stdout",
     "output_type": "stream",
     "text": [
      "100100\n",
      "100100100\n"
     ]
    }
   ],
   "source": [
    "s1= \"100\"\n",
    "\n",
    "print(s1*2 )\n",
    "\n",
    "print(s1*3)"
   ]
  },
  {
   "cell_type": "code",
   "execution_count": 44,
   "id": "acdaf517",
   "metadata": {},
   "outputs": [
    {
     "data": {
      "text/plain": [
       "'heloohelooheloo'"
      ]
     },
     "execution_count": 44,
     "metadata": {},
     "output_type": "execute_result"
    }
   ],
   "source": [
    "s1='heloo'\n",
    "s1*3  #  s1+s1+s1\n"
   ]
  },
  {
   "cell_type": "code",
   "execution_count": 46,
   "id": "89afb825",
   "metadata": {},
   "outputs": [
    {
     "data": {
      "text/plain": [
       "'Hello Python World'"
      ]
     },
     "execution_count": 46,
     "metadata": {},
     "output_type": "execute_result"
    }
   ],
   "source": [
    "# 2 . title()\n",
    "\n",
    "s1='hello python world'\n",
    "s1.title()"
   ]
  },
  {
   "cell_type": "code",
   "execution_count": 50,
   "id": "dfdddc6c",
   "metadata": {},
   "outputs": [
    {
     "name": "stdout",
     "output_type": "stream",
     "text": [
      "8\n"
     ]
    }
   ],
   "source": [
    "# len()\n",
    "\n",
    "s = 'computer'\n",
    "\n",
    "print(len(s))"
   ]
  },
  {
   "cell_type": "code",
   "execution_count": 55,
   "id": "05d7809d",
   "metadata": {},
   "outputs": [
    {
     "data": {
      "text/plain": [
       "8"
      ]
     },
     "execution_count": 55,
     "metadata": {},
     "output_type": "execute_result"
    }
   ],
   "source": [
    "s='kishan .'\n",
    "len(s)"
   ]
  },
  {
   "cell_type": "code",
   "execution_count": 67,
   "id": "7ca5ac78",
   "metadata": {},
   "outputs": [
    {
     "data": {
      "text/plain": [
       "2"
      ]
     },
     "execution_count": 67,
     "metadata": {},
     "output_type": "execute_result"
    }
   ],
   "source": [
    "# count() \n",
    "\n",
    "s= \"apeeplpee\"\n",
    "s.count('pee')\n",
    "\n"
   ]
  },
  {
   "cell_type": "code",
   "execution_count": 75,
   "id": "a56fe3dd",
   "metadata": {},
   "outputs": [
    {
     "data": {
      "text/plain": [
       "10"
      ]
     },
     "execution_count": 75,
     "metadata": {},
     "output_type": "execute_result"
    }
   ],
   "source": [
    "#  index()\n",
    "s=\"abc\"\n",
    "#index: 0,1,2,3,4   +ve\n",
    "# index : -1,-2,-3,  -ve\n",
    "\n",
    "# 0 1 2\n",
    "# a b c\n",
    "#-3 -2 -1 \n",
    "\n",
    "s= 'applopeesep'\n",
    "s.index('p',6)\n",
    "\n",
    "\n"
   ]
  },
  {
   "cell_type": "code",
   "execution_count": 81,
   "id": "3a22d24c",
   "metadata": {},
   "outputs": [
    {
     "name": "stdout",
     "output_type": "stream",
     "text": [
      "hello python\n"
     ]
    }
   ],
   "source": [
    "# replace():\n",
    "\n",
    "s= \"hi python\"\n",
    "\n",
    "new_s=s.replace('hi','hello')\n",
    "print(new_s)\n"
   ]
  },
  {
   "cell_type": "code",
   "execution_count": 83,
   "id": "21eb3250",
   "metadata": {},
   "outputs": [
    {
     "data": {
      "text/plain": [
       "'hello'"
      ]
     },
     "execution_count": 83,
     "metadata": {},
     "output_type": "execute_result"
    }
   ],
   "source": [
    "s='hello'\n",
    "s"
   ]
  },
  {
   "cell_type": "code",
   "execution_count": null,
   "id": "a0014e01",
   "metadata": {},
   "outputs": [
    {
     "data": {
      "text/plain": [
       "'pythom'"
      ]
     },
     "execution_count": 84,
     "metadata": {},
     "output_type": "execute_result"
    }
   ],
   "source": [
    "s= 'python'\n",
    "\n",
    "s.replace('n','m')\n"
   ]
  },
  {
   "cell_type": "code",
   "execution_count": 85,
   "id": "295ee1aa",
   "metadata": {},
   "outputs": [
    {
     "data": {
      "text/plain": [
       "'pytho'"
      ]
     },
     "execution_count": 85,
     "metadata": {},
     "output_type": "execute_result"
    }
   ],
   "source": [
    "s= 'python'  # pytho\n",
    "\n",
    "s.replace('n',\"\")\n"
   ]
  },
  {
   "cell_type": "code",
   "execution_count": 86,
   "id": "081648ca",
   "metadata": {},
   "outputs": [
    {
     "data": {
      "text/plain": [
       "'pyhon'"
      ]
     },
     "execution_count": 86,
     "metadata": {},
     "output_type": "execute_result"
    }
   ],
   "source": [
    "s= 'python'\n",
    "s.replace(\"t\",\"\")"
   ]
  },
  {
   "cell_type": "code",
   "execution_count": null,
   "id": "d27da121",
   "metadata": {},
   "outputs": [
    {
     "data": {
      "text/plain": [
       "'hi good morning.hello how are you'"
      ]
     },
     "execution_count": 87,
     "metadata": {},
     "output_type": "execute_result"
    }
   ],
   "source": [
    "# \\n  ==> next line   , \\t   == tab(space )\n",
    "#\"hi good morning.\"\n",
    "#\"hello how are you\"\n",
    "\n",
    "st= \"hi good morning.\\nhello how are you\\n.\"\n",
    "\n",
    "new_st= st.replace(\"\\n\",\"\")\n",
    "new_st"
   ]
  },
  {
   "cell_type": "code",
   "execution_count": 89,
   "id": "6e438dfd",
   "metadata": {},
   "outputs": [
    {
     "name": "stdout",
     "output_type": "stream",
     "text": [
      "['hi good morning.\\n', 'how are you.\\n', 'your report is good\\n', 'you are welcome.\\n', 'thankyou.']\n",
      "['hi good morning.', 'how are you.', 'your report is good', 'you are welcome.', 'thankyou.']\n"
     ]
    }
   ],
   "source": [
    "f=open(\"report.txt\",\"r\")\n",
    "lines=f.readlines()\n",
    "print(lines)\n",
    "\n",
    "line=[v.replace(\"\\n\",\"\") for v in lines]\n",
    "print(line)"
   ]
  },
  {
   "cell_type": "code",
   "execution_count": 96,
   "id": "53e3fc7d",
   "metadata": {},
   "outputs": [
    {
     "data": {
      "text/plain": [
       "'hi good morning.'"
      ]
     },
     "execution_count": 96,
     "metadata": {},
     "output_type": "execute_result"
    }
   ],
   "source": [
    "# lower() , upper() , swapcase()\n",
    "s='hi gOod MorNing.'\n",
    "\n",
    "s.lower()\n",
    "\n"
   ]
  },
  {
   "cell_type": "code",
   "execution_count": 97,
   "id": "507abdf4",
   "metadata": {},
   "outputs": [
    {
     "data": {
      "text/plain": [
       "'HI GOOD MORNING.'"
      ]
     },
     "execution_count": 97,
     "metadata": {},
     "output_type": "execute_result"
    }
   ],
   "source": [
    "s.upper()"
   ]
  },
  {
   "cell_type": "code",
   "execution_count": 98,
   "id": "bcf3a762",
   "metadata": {},
   "outputs": [
    {
     "data": {
      "text/plain": [
       "'HI GOOD MORNING.'"
      ]
     },
     "execution_count": 98,
     "metadata": {},
     "output_type": "execute_result"
    }
   ],
   "source": [
    "s='hi good morning.'\n",
    "s.swapcase()"
   ]
  },
  {
   "cell_type": "code",
   "execution_count": 99,
   "id": "a82dcf2a",
   "metadata": {},
   "outputs": [
    {
     "data": {
      "text/plain": [
       "'hi good morning.'"
      ]
     },
     "execution_count": 99,
     "metadata": {},
     "output_type": "execute_result"
    }
   ],
   "source": [
    "s='HI GOOD MORNING.'\n",
    "s.swapcase()"
   ]
  },
  {
   "cell_type": "code",
   "execution_count": 100,
   "id": "9a18d9f9",
   "metadata": {},
   "outputs": [
    {
     "data": {
      "text/plain": [
       "'aPPLe'"
      ]
     },
     "execution_count": 100,
     "metadata": {},
     "output_type": "execute_result"
    }
   ],
   "source": [
    "s = 'ApplE'\n",
    "s.swapcase()"
   ]
  },
  {
   "cell_type": "code",
   "execution_count": 101,
   "id": "15e9c544",
   "metadata": {},
   "outputs": [
    {
     "data": {
      "text/plain": [
       "3"
      ]
     },
     "execution_count": 101,
     "metadata": {},
     "output_type": "execute_result"
    }
   ],
   "source": [
    "# find(): return index pos if str is avail in given str\n",
    "#          return -1 if not\n",
    "\n",
    "s= 'hi good morning.'\n",
    "\n",
    "s.find(\"good\")\n"
   ]
  },
  {
   "cell_type": "code",
   "execution_count": 102,
   "id": "c027c44e",
   "metadata": {},
   "outputs": [
    {
     "data": {
      "text/plain": [
       "-1"
      ]
     },
     "execution_count": 102,
     "metadata": {},
     "output_type": "execute_result"
    }
   ],
   "source": [
    "s= 'hi good morning.'\n",
    "\n",
    "s.find(\"bad\")\n"
   ]
  },
  {
   "cell_type": "code",
   "execution_count": 107,
   "id": "59c39595",
   "metadata": {},
   "outputs": [
    {
     "data": {
      "text/plain": [
       "1"
      ]
     },
     "execution_count": 107,
     "metadata": {},
     "output_type": "execute_result"
    }
   ],
   "source": [
    "s= \"appleeseep\"\n",
    "s.find('pp')"
   ]
  },
  {
   "cell_type": "code",
   "execution_count": 108,
   "id": "be3178ac",
   "metadata": {},
   "outputs": [
    {
     "data": {
      "text/plain": [
       "True"
      ]
     },
     "execution_count": 108,
     "metadata": {},
     "output_type": "execute_result"
    }
   ],
   "source": [
    "# islower(), isupper(), isdigit(),isalph()  ==> True/ False\n",
    "\n",
    "s= 'hello'\n",
    "s.islower()"
   ]
  },
  {
   "cell_type": "code",
   "execution_count": 109,
   "id": "88ef042c",
   "metadata": {},
   "outputs": [
    {
     "data": {
      "text/plain": [
       "False"
      ]
     },
     "execution_count": 109,
     "metadata": {},
     "output_type": "execute_result"
    }
   ],
   "source": [
    "s= 'hello'\n",
    "s.isupper()"
   ]
  },
  {
   "cell_type": "code",
   "execution_count": 110,
   "id": "c264a225",
   "metadata": {},
   "outputs": [
    {
     "data": {
      "text/plain": [
       "False"
      ]
     },
     "execution_count": 110,
     "metadata": {},
     "output_type": "execute_result"
    }
   ],
   "source": [
    "s= 'hello'\n",
    "s.isdigit()"
   ]
  },
  {
   "cell_type": "code",
   "execution_count": 112,
   "id": "8ffe70ba",
   "metadata": {},
   "outputs": [
    {
     "data": {
      "text/plain": [
       "True"
      ]
     },
     "execution_count": 112,
     "metadata": {},
     "output_type": "execute_result"
    }
   ],
   "source": [
    "s= 'hello'\n",
    "s.isalpha()"
   ]
  },
  {
   "cell_type": "code",
   "execution_count": null,
   "id": "61aff671",
   "metadata": {},
   "outputs": [
    {
     "data": {
      "text/plain": [
       "True"
      ]
     },
     "execution_count": 113,
     "metadata": {},
     "output_type": "execute_result"
    }
   ],
   "source": [
    "s='12345'\n",
    "s.isdigit()\n"
   ]
  },
  {
   "cell_type": "code",
   "execution_count": 114,
   "id": "0879d899",
   "metadata": {},
   "outputs": [
    {
     "data": {
      "text/plain": [
       "False"
      ]
     },
     "execution_count": 114,
     "metadata": {},
     "output_type": "execute_result"
    }
   ],
   "source": [
    "s='12345'\n",
    "s.isalpha()"
   ]
  },
  {
   "cell_type": "code",
   "execution_count": 123,
   "id": "deb7a46d",
   "metadata": {},
   "outputs": [
    {
     "data": {
      "text/plain": [
       "False"
      ]
     },
     "execution_count": 123,
     "metadata": {},
     "output_type": "execute_result"
    }
   ],
   "source": [
    "# startswith():   # endswith()\n",
    "\n",
    "# s= ['kishan.singh@ gmail.com','lucky.singh@ gmail.com','kishor.singh@ outlook.com']\n",
    "\n",
    "s=' kishan.singh@ gmail.com'\n",
    "\n",
    "s.startswith('k')\n"
   ]
  },
  {
   "cell_type": "code",
   "execution_count": 143,
   "id": "89eb9e2c",
   "metadata": {},
   "outputs": [
    {
     "data": {
      "text/plain": [
       "['lucky.singh@outlook.com', 'kishor.singh@outlook.com']"
      ]
     },
     "execution_count": 143,
     "metadata": {},
     "output_type": "execute_result"
    }
   ],
   "source": [
    "s= ['kishan.singh@gmail.com','lucky.singh@outlook.com','kishor.singh@outlook.com','aimind.singh@outlook.in']\n",
    "\n",
    "res=[]\n",
    "for v in s:\n",
    "    if v.strip().endswith('@outlook.com'):\n",
    "        res.append(v)\n",
    "res\n"
   ]
  },
  {
   "cell_type": "code",
   "execution_count": 136,
   "id": "fdea5619",
   "metadata": {},
   "outputs": [
    {
     "data": {
      "text/plain": [
       "True"
      ]
     },
     "execution_count": 136,
     "metadata": {},
     "output_type": "execute_result"
    }
   ],
   "source": [
    "# strip():  lstrip(),rstrip()\n",
    "\n",
    "s='   kishan'\n",
    "\n",
    "s.strip().startswith('k')"
   ]
  },
  {
   "cell_type": "code",
   "execution_count": 129,
   "id": "1d253c31",
   "metadata": {},
   "outputs": [
    {
     "data": {
      "text/plain": [
       "'kishan'"
      ]
     },
     "execution_count": 129,
     "metadata": {},
     "output_type": "execute_result"
    }
   ],
   "source": [
    "s='                                           kishan                             '\n",
    "s.strip()"
   ]
  },
  {
   "cell_type": "code",
   "execution_count": 140,
   "id": "8e293c48",
   "metadata": {},
   "outputs": [
    {
     "data": {
      "text/plain": [
       "True"
      ]
     },
     "execution_count": 140,
     "metadata": {},
     "output_type": "execute_result"
    }
   ],
   "source": [
    "# endswith()\n",
    "s1='kishor'\n",
    "s2='kishan'\n",
    "\n",
    "s2.endswith('han')\n",
    "\n"
   ]
  },
  {
   "cell_type": "code",
   "execution_count": null,
   "id": "74bcc941",
   "metadata": {},
   "outputs": [],
   "source": [
    "s= ['kishan.singh@gmail.com','lucky.singh@outlook.com','kishor.singh@outlook.com','aimind.singh@outlook.in']\n",
    "\n",
    "res=[]\n",
    "for v in s:\n",
    "    if v.strip().endswith('@outlook.com'):\n",
    "        res.append(v)\n",
    "res"
   ]
  },
  {
   "cell_type": "code",
   "execution_count": null,
   "id": "064b1c2e",
   "metadata": {},
   "outputs": [
    {
     "data": {
      "text/plain": [
       "['python', 'c++', 'java']"
      ]
     },
     "execution_count": 144,
     "metadata": {},
     "output_type": "execute_result"
    }
   ],
   "source": [
    "# split(); --> breakdown large str into small str ==> return list of strings\n",
    "\n",
    "coures='python c++ java'\n",
    "\n",
    "coures.split()\n",
    "\n"
   ]
  },
  {
   "cell_type": "code",
   "execution_count": 148,
   "id": "6f5826c2",
   "metadata": {},
   "outputs": [
    {
     "data": {
      "text/plain": [
       "'c++'"
      ]
     },
     "execution_count": 148,
     "metadata": {},
     "output_type": "execute_result"
    }
   ],
   "source": [
    "coures='python c++ java'\n",
    "c1,c2,c3=coures.split()\n",
    "c2"
   ]
  },
  {
   "cell_type": "code",
   "execution_count": 167,
   "id": "7e43d573",
   "metadata": {},
   "outputs": [
    {
     "data": {
      "text/plain": [
       "['kishan.singh', 'gmail.com']"
      ]
     },
     "execution_count": 167,
     "metadata": {},
     "output_type": "execute_result"
    }
   ],
   "source": [
    "s='kishan.singh@gmail.com'\n",
    "\n",
    "# delimiter  : words seperation  , ; '@\n",
    "s.split('@')   #by delimiter  == space"
   ]
  },
  {
   "cell_type": "code",
   "execution_count": 170,
   "id": "5a1d0c01",
   "metadata": {},
   "outputs": [
    {
     "data": {
      "text/plain": [
       "[['kishan.singh', 'gmail.com'],\n",
       " ['lucky.singh', 'outlook.com'],\n",
       " ['kishor.kumar', 'outlook.com'],\n",
       " ['aimind.singh', 'outlook.in']]"
      ]
     },
     "execution_count": 170,
     "metadata": {},
     "output_type": "execute_result"
    }
   ],
   "source": [
    "s= ['kishan.singh@gmail.com','lucky.singh@outlook.com','kishor.kumar@outlook.com','aimind.singh@outlook.in']\n",
    "\n",
    "res=[]\n",
    "for v in s:\n",
    "   res.append(v.split(\"@\"))\n",
    "res   "
   ]
  },
  {
   "cell_type": "code",
   "execution_count": 173,
   "id": "737223e1",
   "metadata": {},
   "outputs": [
    {
     "data": {
      "text/plain": [
       "'singh'"
      ]
     },
     "execution_count": 173,
     "metadata": {},
     "output_type": "execute_result"
    }
   ],
   "source": [
    "s='kishan.singh'\n",
    "s.split('.')[1]"
   ]
  },
  {
   "cell_type": "code",
   "execution_count": 175,
   "id": "b81a50d3",
   "metadata": {},
   "outputs": [
    {
     "data": {
      "text/plain": [
       "['kishan', 'singh']"
      ]
     },
     "execution_count": 175,
     "metadata": {},
     "output_type": "execute_result"
    }
   ],
   "source": [
    "# join :  it joins list of str into  a single str\n",
    "\n",
    "s= 'kishan singh'\n",
    "s.split()"
   ]
  },
  {
   "cell_type": "code",
   "execution_count": null,
   "id": "c24da391",
   "metadata": {},
   "outputs": [
    {
     "data": {
      "text/plain": [
       "'kishan>singh>varansi>wale'"
      ]
     },
     "execution_count": 181,
     "metadata": {},
     "output_type": "execute_result"
    }
   ],
   "source": [
    "s=['kishan', 'singh','varansi','wale']\n",
    "\n",
    "# ' kishan singh var wale\n",
    "\n",
    "\" \".join(s)\n"
   ]
  },
  {
   "cell_type": "code",
   "execution_count": 183,
   "id": "080e8bc1",
   "metadata": {},
   "outputs": [
    {
     "data": {
      "text/plain": [
       "'kishan'"
      ]
     },
     "execution_count": 183,
     "metadata": {},
     "output_type": "execute_result"
    }
   ],
   "source": [
    "s= ['kishan'] \n",
    "\n",
    "' '.join(s)"
   ]
  },
  {
   "cell_type": "code",
   "execution_count": null,
   "id": "9bbf1f10",
   "metadata": {},
   "outputs": [],
   "source": [
    "# slicing and indexing\n",
    "\n",
    "# tomorrow will continue.."
   ]
  }
 ],
 "metadata": {
  "kernelspec": {
   "display_name": "fsds_env",
   "language": "python",
   "name": "python3"
  },
  "language_info": {
   "codemirror_mode": {
    "name": "ipython",
    "version": 3
   },
   "file_extension": ".py",
   "mimetype": "text/x-python",
   "name": "python",
   "nbconvert_exporter": "python",
   "pygments_lexer": "ipython3",
   "version": "3.7.10"
  }
 },
 "nbformat": 4,
 "nbformat_minor": 5
}
