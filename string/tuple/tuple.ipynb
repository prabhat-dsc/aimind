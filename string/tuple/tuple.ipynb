{
 "cells": [
  {
   "cell_type": "code",
   "execution_count": null,
   "id": "0cceba24",
   "metadata": {},
   "outputs": [],
   "source": [
    "# tuple\n",
    "\n",
    "# sysbol= () empty\n",
    "# it can contain homohgenious as well as hetrogenious element\n",
    "  # ( 1,2,3,'apple', {'a'\"10\"})\n",
    "  # # tupe is also a sequence type means  posses indexing  , slicing can done\n",
    "  #  (10,20,30,40)\n",
    "# tuple is immutabe :  modify, update, add, delete/remove  cannot perform\n",
    "# tuple can contain duplicates also"
   ]
  },
  {
   "cell_type": "code",
   "execution_count": null,
   "id": "360bde22",
   "metadata": {},
   "outputs": [
    {
     "name": "stdout",
     "output_type": "stream",
     "text": [
      "<class 'tuple'>\n",
      "0\n"
     ]
    }
   ],
   "source": [
    "my_tup=()  # empty tuple\n",
    "\n",
    "print(type(my_tup))\n",
    "\n",
    "print(len(my_tup))"
   ]
  },
  {
   "cell_type": "code",
   "execution_count": 6,
   "id": "04a5b9e4",
   "metadata": {},
   "outputs": [
    {
     "name": "stdout",
     "output_type": "stream",
     "text": [
      "<class 'tuple'>\n",
      "1\n"
     ]
    }
   ],
   "source": [
    "tup= (10,)\n",
    "\n",
    "print(type(tup))  # tuple ,\n",
    "\n",
    "print(len(tup))  # 1"
   ]
  },
  {
   "cell_type": "code",
   "execution_count": 7,
   "id": "39eac1ab",
   "metadata": {},
   "outputs": [
    {
     "name": "stdout",
     "output_type": "stream",
     "text": [
      "<class 'tuple'>\n",
      "1\n"
     ]
    }
   ],
   "source": [
    "tup= ('hi',)\n",
    "\n",
    "print(type(tup))  # tuple ,\n",
    "\n",
    "print(len(tup))  # 1"
   ]
  },
  {
   "cell_type": "code",
   "execution_count": 10,
   "id": "0774a7b7",
   "metadata": {},
   "outputs": [
    {
     "data": {
      "text/plain": [
       "8"
      ]
     },
     "execution_count": 10,
     "metadata": {},
     "output_type": "execute_result"
    }
   ],
   "source": [
    "tup=(10,20,30,40,50,'pen','book',[100,200])\n",
    "\n",
    "len(tup)"
   ]
  },
  {
   "cell_type": "code",
   "execution_count": 11,
   "id": "c567a0f9",
   "metadata": {},
   "outputs": [
    {
     "data": {
      "text/plain": [
       "5"
      ]
     },
     "execution_count": 11,
     "metadata": {},
     "output_type": "execute_result"
    }
   ],
   "source": [
    "tup=(10,20,30,40,50)\n",
    "\n",
    "len(tup)"
   ]
  },
  {
   "cell_type": "code",
   "execution_count": 13,
   "id": "5700e450",
   "metadata": {},
   "outputs": [
    {
     "data": {
      "text/plain": [
       "2"
      ]
     },
     "execution_count": 13,
     "metadata": {},
     "output_type": "execute_result"
    }
   ],
   "source": [
    "x=(10,20,30,40,50,10,50,20)\n",
    "\n",
    "x.count(10)"
   ]
  },
  {
   "cell_type": "code",
   "execution_count": 15,
   "id": "b0898d3b",
   "metadata": {},
   "outputs": [
    {
     "data": {
      "text/plain": [
       "10"
      ]
     },
     "execution_count": 15,
     "metadata": {},
     "output_type": "execute_result"
    }
   ],
   "source": [
    "x= (10,20,50,40,70,30,60)\n",
    "\n",
    "min(x)"
   ]
  },
  {
   "cell_type": "code",
   "execution_count": 16,
   "id": "4554dd09",
   "metadata": {},
   "outputs": [
    {
     "data": {
      "text/plain": [
       "70"
      ]
     },
     "execution_count": 16,
     "metadata": {},
     "output_type": "execute_result"
    }
   ],
   "source": [
    "x= (10,20,50,40,70,30,60)\n",
    "\n",
    "max(x)"
   ]
  },
  {
   "cell_type": "code",
   "execution_count": 17,
   "id": "403107e3",
   "metadata": {},
   "outputs": [
    {
     "data": {
      "text/plain": [
       "280"
      ]
     },
     "execution_count": 17,
     "metadata": {},
     "output_type": "execute_result"
    }
   ],
   "source": [
    "x= (10,20,50,40,70,30,60)\n",
    "\n",
    "sum(x)"
   ]
  },
  {
   "cell_type": "code",
   "execution_count": 18,
   "id": "d57353db",
   "metadata": {},
   "outputs": [
    {
     "data": {
      "text/plain": [
       "40.0"
      ]
     },
     "execution_count": 18,
     "metadata": {},
     "output_type": "execute_result"
    }
   ],
   "source": [
    "x= (10,20,50,40,70,30,60)\n",
    "\n",
    "avg= sum(x)/len(x)\n",
    "avg"
   ]
  },
  {
   "cell_type": "code",
   "execution_count": 20,
   "id": "85473c1d",
   "metadata": {},
   "outputs": [
    {
     "data": {
      "text/plain": [
       "1"
      ]
     },
     "execution_count": 20,
     "metadata": {},
     "output_type": "execute_result"
    }
   ],
   "source": [
    "x=(10,20,30,40,50,10,50,20)\n",
    "\n",
    "x.index(20)"
   ]
  },
  {
   "cell_type": "code",
   "execution_count": 21,
   "id": "e55c8b4e",
   "metadata": {},
   "outputs": [
    {
     "data": {
      "text/plain": [
       "7"
      ]
     },
     "execution_count": 21,
     "metadata": {},
     "output_type": "execute_result"
    }
   ],
   "source": [
    "x.index(20,2)"
   ]
  },
  {
   "cell_type": "code",
   "execution_count": null,
   "id": "a0aa9047",
   "metadata": {},
   "outputs": [
    {
     "name": "stdout",
     "output_type": "stream",
     "text": [
      "x:  (10, 20, 50, 40, 70, 30, 60)\n",
      "y:  [10, 20, 30, 40, 50, 60, 70]\n"
     ]
    }
   ],
   "source": [
    "x= (10,20,50,40,70,30,60)\n",
    "\n",
    "y=sorted(x)\n",
    "\n",
    "print(\"x: \",x)\n",
    "print(\"y: \",y)\n"
   ]
  },
  {
   "cell_type": "code",
   "execution_count": 28,
   "id": "29d11f31",
   "metadata": {},
   "outputs": [
    {
     "ename": "TypeError",
     "evalue": "'tuple' object does not support item assignment",
     "output_type": "error",
     "traceback": [
      "\u001b[1;31m---------------------------------------------------------------------------\u001b[0m",
      "\u001b[1;31mTypeError\u001b[0m                                 Traceback (most recent call last)",
      "\u001b[1;32m~\\AppData\\Local\\Temp\\ipykernel_13608\\4223670611.py\u001b[0m in \u001b[0;36m<module>\u001b[1;34m\u001b[0m\n\u001b[1;32m----> 1\u001b[1;33m \u001b[0mx\u001b[0m\u001b[1;33m[\u001b[0m\u001b[1;36m0\u001b[0m\u001b[1;33m]\u001b[0m\u001b[1;33m=\u001b[0m\u001b[1;36m100\u001b[0m\u001b[1;33m\u001b[0m\u001b[1;33m\u001b[0m\u001b[0m\n\u001b[0m\u001b[0;32m      2\u001b[0m \u001b[0mx\u001b[0m\u001b[1;33m\u001b[0m\u001b[1;33m\u001b[0m\u001b[0m\n",
      "\u001b[1;31mTypeError\u001b[0m: 'tuple' object does not support item assignment"
     ]
    }
   ],
   "source": [
    "x[0]=100\n",
    "x"
   ]
  },
  {
   "cell_type": "code",
   "execution_count": 26,
   "id": "46c917b3",
   "metadata": {},
   "outputs": [
    {
     "name": "stdout",
     "output_type": "stream",
     "text": [
      "[10, 20, 30, 40, 50, 60, 70]\n"
     ]
    },
    {
     "data": {
      "text/plain": [
       "(10, 20, 50, 40, 70, 30, 60)"
      ]
     },
     "execution_count": 26,
     "metadata": {},
     "output_type": "execute_result"
    }
   ],
   "source": [
    "x= (10,20,50,40,70,30,60)\n",
    "\n",
    "print(sorted(x))\n",
    "\n",
    "x\n"
   ]
  },
  {
   "cell_type": "code",
   "execution_count": 32,
   "id": "f74a13e0",
   "metadata": {},
   "outputs": [
    {
     "data": {
      "text/plain": [
       "(10, 20, 50, [40, 700, 30], 60)"
      ]
     },
     "execution_count": 32,
     "metadata": {},
     "output_type": "execute_result"
    }
   ],
   "source": [
    "x= (10,20,50,[40,70,30],60)\n",
    "\n",
    "x[3][1]=700\n",
    "x\n"
   ]
  },
  {
   "cell_type": "code",
   "execution_count": 34,
   "id": "c1c81399",
   "metadata": {},
   "outputs": [
    {
     "ename": "TypeError",
     "evalue": "'tuple' object does not support item assignment",
     "output_type": "error",
     "traceback": [
      "\u001b[1;31m---------------------------------------------------------------------------\u001b[0m",
      "\u001b[1;31mTypeError\u001b[0m                                 Traceback (most recent call last)",
      "\u001b[1;32m~\\AppData\\Local\\Temp\\ipykernel_13608\\4099771443.py\u001b[0m in \u001b[0;36m<module>\u001b[1;34m\u001b[0m\n\u001b[1;32m----> 1\u001b[1;33m \u001b[0mx\u001b[0m\u001b[1;33m[\u001b[0m\u001b[1;36m2\u001b[0m\u001b[1;33m]\u001b[0m\u001b[1;33m=\u001b[0m\u001b[1;36m500\u001b[0m\u001b[1;33m\u001b[0m\u001b[1;33m\u001b[0m\u001b[0m\n\u001b[0m\u001b[0;32m      2\u001b[0m \u001b[0mx\u001b[0m\u001b[1;33m\u001b[0m\u001b[1;33m\u001b[0m\u001b[0m\n",
      "\u001b[1;31mTypeError\u001b[0m: 'tuple' object does not support item assignment"
     ]
    }
   ],
   "source": [
    "x[2]=500\n",
    "x"
   ]
  },
  {
   "cell_type": "code",
   "execution_count": 35,
   "id": "cedf249d",
   "metadata": {},
   "outputs": [
    {
     "data": {
      "text/plain": [
       "[(5, 10, 3), (6, 12, 10), (12, 1, 3)]"
      ]
     },
     "execution_count": 35,
     "metadata": {},
     "output_type": "execute_result"
    }
   ],
   "source": [
    "x=((6,12,10),(5,10,3),(12,1,3))\n",
    "\n",
    "y=sorted(x)\n",
    "y"
   ]
  },
  {
   "cell_type": "code",
   "execution_count": 37,
   "id": "d1dfc0b0",
   "metadata": {},
   "outputs": [
    {
     "data": {
      "text/plain": [
       "[(6, 12, 10), (5, 10, 3), (12, 1, 3)]"
      ]
     },
     "execution_count": 37,
     "metadata": {},
     "output_type": "execute_result"
    }
   ],
   "source": [
    "x=((6,12,10),(5,10,3),(12,1,3))\n",
    "\n",
    "y=sorted(x, key=lambda i:i[1],reverse=True)\n",
    "y"
   ]
  }
 ],
 "metadata": {
  "kernelspec": {
   "display_name": "fsds_env",
   "language": "python",
   "name": "python3"
  },
  "language_info": {
   "codemirror_mode": {
    "name": "ipython",
    "version": 3
   },
   "file_extension": ".py",
   "mimetype": "text/x-python",
   "name": "python",
   "nbconvert_exporter": "python",
   "pygments_lexer": "ipython3",
   "version": "3.7.10"
  }
 },
 "nbformat": 4,
 "nbformat_minor": 5
}
